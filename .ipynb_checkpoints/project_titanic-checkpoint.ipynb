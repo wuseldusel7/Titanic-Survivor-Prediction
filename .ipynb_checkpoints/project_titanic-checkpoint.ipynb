{
 "cells": [
  {
   "cell_type": "code",
   "execution_count": 1,
   "metadata": {},
   "outputs": [],
   "source": [
    "import numpy as np\n",
    "import pandas as pd\n",
    "import re\n",
    "from sklearn.model_selection import train_test_split\n",
    "from matplotlib import pyplot as plt\n",
    "import seaborn as sns\n",
    "from sklearn.impute import SimpleImputer\n",
    "from sklearn.preprocessing import OneHotEncoder, MinMaxScaler, StandardScaler, KBinsDiscretizer\n",
    "from sklearn.pipeline import Pipeline\n",
    "from sklearn.compose import ColumnTransformer\n",
    "from sklearn.impute import KNNImputer\n",
    "from sklearn.linear_model import LogisticRegression, LogisticRegressionCV\n",
    "from sklearn.tree import DecisionTreeClassifier\n",
    "from sklearn.ensemble import RandomForestClassifier, VotingClassifier\n",
    "from sklearn.neighbors import KNeighborsClassifier\n",
    "from sklearn.inspection import permutation_importance\n",
    "from sklearn.svm import SVC\n",
    "from sklearn import metrics"
   ]
  },
  {
   "cell_type": "markdown",
   "metadata": {},
   "source": [
    "# 0. Usefull functions for this notebook"
   ]
  },
  {
   "cell_type": "code",
   "execution_count": 2,
   "metadata": {},
   "outputs": [],
   "source": [
    "#################### helper functions #################\n",
    "\n",
    "#### adding another column with the title ####\n",
    "def find_title(s):\n",
    "    TITLE = r\"(?:[A-Z][a-z]*\\.\\s*)?\"\n",
    "    title = re.findall(TITLE, s)\n",
    "    title = ' '.join(title).split()\n",
    "    return str(title[0])\n",
    "\n",
    "#### finding the letter in the Cabin number ####\n",
    "def find_deck(s):\n",
    "    DECK = r\"[a-zA-Z]\"\n",
    "    d = re.findall(DECK, s)\n",
    "    return d[0]\n",
    "\n",
    "#### function to bring the dataframe into the desired order ####\n",
    "def sort_stuff(df):\n",
    "    '''\n",
    "    Extracting the Deck from the Cabin number\n",
    "    Drop the ticket column due to minor statistical value for the model\n",
    "    Fill the NaNs in the embarked column with the most common one\n",
    "    Drop the names due to minor statistical value for the model\n",
    "    Drop the PassengerID\n",
    "    Merging similar titles to reduce the complexitiy\n",
    "    '''\n",
    "    cab = df['Cabin'].astype(str)\n",
    "    cab = cab.reset_index()\n",
    "\n",
    "    cab['Deck'] = cab['Cabin'].apply(find_deck)\n",
    "    cab.set_index('index', inplace=True)\n",
    "    cab.rename_axis(None).drop('Cabin',axis=1)\n",
    "\n",
    "    df = pd.merge(df, cab, left_index=True, right_index=True)\n",
    "    df.drop(['Cabin_x', 'Cabin_y'],axis=1, inplace=True)\n",
    "\n",
    "    # get rid of Tickets due to uncorrelated unique values\n",
    "    df.drop('Ticket', axis=1, inplace=True)\n",
    "\n",
    "    df['Embarked'].fillna(df.Embarked.mode()[0], inplace=True)\n",
    "    df.drop(['Name'], axis=1, inplace=True)\n",
    "\n",
    "    df['Deck'].replace('n', np.nan, inplace=True)\n",
    "\n",
    "    df.drop(['PassengerId'], axis=1,  inplace=True)\n",
    "\n",
    "    df['Title'].replace(['Capt.', 'Col.', 'Major.'], 'Dr.', inplace=True)\n",
    "    df['Title'].replace(['Countess.', 'Lady.', 'Mme.'], 'Mrs.', inplace=True)\n",
    "    df['Title'].replace(['Mlle.', 'Ms.'], 'Miss.', inplace=True)\n",
    "    \n",
    "    return df"
   ]
  },
  {
   "cell_type": "markdown",
   "metadata": {},
   "source": [
    "# 1. Loading the titanic data set"
   ]
  },
  {
   "cell_type": "code",
   "execution_count": 4,
   "metadata": {},
   "outputs": [
    {
     "data": {
      "text/html": [
       "<div>\n",
       "<style scoped>\n",
       "    .dataframe tbody tr th:only-of-type {\n",
       "        vertical-align: middle;\n",
       "    }\n",
       "\n",
       "    .dataframe tbody tr th {\n",
       "        vertical-align: top;\n",
       "    }\n",
       "\n",
       "    .dataframe thead th {\n",
       "        text-align: right;\n",
       "    }\n",
       "</style>\n",
       "<table border=\"1\" class=\"dataframe\">\n",
       "  <thead>\n",
       "    <tr style=\"text-align: right;\">\n",
       "      <th></th>\n",
       "      <th>PassengerId</th>\n",
       "      <th>Survived</th>\n",
       "      <th>Pclass</th>\n",
       "      <th>Name</th>\n",
       "      <th>Sex</th>\n",
       "      <th>Age</th>\n",
       "      <th>SibSp</th>\n",
       "      <th>Parch</th>\n",
       "      <th>Ticket</th>\n",
       "      <th>Fare</th>\n",
       "      <th>Cabin</th>\n",
       "      <th>Embarked</th>\n",
       "    </tr>\n",
       "  </thead>\n",
       "  <tbody>\n",
       "    <tr>\n",
       "      <th>0</th>\n",
       "      <td>1</td>\n",
       "      <td>0</td>\n",
       "      <td>3</td>\n",
       "      <td>Braund, Mr. Owen Harris</td>\n",
       "      <td>male</td>\n",
       "      <td>22.0</td>\n",
       "      <td>1</td>\n",
       "      <td>0</td>\n",
       "      <td>A/5 21171</td>\n",
       "      <td>7.2500</td>\n",
       "      <td>NaN</td>\n",
       "      <td>S</td>\n",
       "    </tr>\n",
       "    <tr>\n",
       "      <th>1</th>\n",
       "      <td>2</td>\n",
       "      <td>1</td>\n",
       "      <td>1</td>\n",
       "      <td>Cumings, Mrs. John Bradley (Florence Briggs Th...</td>\n",
       "      <td>female</td>\n",
       "      <td>38.0</td>\n",
       "      <td>1</td>\n",
       "      <td>0</td>\n",
       "      <td>PC 17599</td>\n",
       "      <td>71.2833</td>\n",
       "      <td>C85</td>\n",
       "      <td>C</td>\n",
       "    </tr>\n",
       "    <tr>\n",
       "      <th>2</th>\n",
       "      <td>3</td>\n",
       "      <td>1</td>\n",
       "      <td>3</td>\n",
       "      <td>Heikkinen, Miss. Laina</td>\n",
       "      <td>female</td>\n",
       "      <td>26.0</td>\n",
       "      <td>0</td>\n",
       "      <td>0</td>\n",
       "      <td>STON/O2. 3101282</td>\n",
       "      <td>7.9250</td>\n",
       "      <td>NaN</td>\n",
       "      <td>S</td>\n",
       "    </tr>\n",
       "    <tr>\n",
       "      <th>3</th>\n",
       "      <td>4</td>\n",
       "      <td>1</td>\n",
       "      <td>1</td>\n",
       "      <td>Futrelle, Mrs. Jacques Heath (Lily May Peel)</td>\n",
       "      <td>female</td>\n",
       "      <td>35.0</td>\n",
       "      <td>1</td>\n",
       "      <td>0</td>\n",
       "      <td>113803</td>\n",
       "      <td>53.1000</td>\n",
       "      <td>C123</td>\n",
       "      <td>S</td>\n",
       "    </tr>\n",
       "    <tr>\n",
       "      <th>4</th>\n",
       "      <td>5</td>\n",
       "      <td>0</td>\n",
       "      <td>3</td>\n",
       "      <td>Allen, Mr. William Henry</td>\n",
       "      <td>male</td>\n",
       "      <td>35.0</td>\n",
       "      <td>0</td>\n",
       "      <td>0</td>\n",
       "      <td>373450</td>\n",
       "      <td>8.0500</td>\n",
       "      <td>NaN</td>\n",
       "      <td>S</td>\n",
       "    </tr>\n",
       "  </tbody>\n",
       "</table>\n",
       "</div>"
      ],
      "text/plain": [
       "   PassengerId  Survived  Pclass  \\\n",
       "0            1         0       3   \n",
       "1            2         1       1   \n",
       "2            3         1       3   \n",
       "3            4         1       1   \n",
       "4            5         0       3   \n",
       "\n",
       "                                                Name     Sex   Age  SibSp  \\\n",
       "0                            Braund, Mr. Owen Harris    male  22.0      1   \n",
       "1  Cumings, Mrs. John Bradley (Florence Briggs Th...  female  38.0      1   \n",
       "2                             Heikkinen, Miss. Laina  female  26.0      0   \n",
       "3       Futrelle, Mrs. Jacques Heath (Lily May Peel)  female  35.0      1   \n",
       "4                           Allen, Mr. William Henry    male  35.0      0   \n",
       "\n",
       "   Parch            Ticket     Fare Cabin Embarked  \n",
       "0      0         A/5 21171   7.2500   NaN        S  \n",
       "1      0          PC 17599  71.2833   C85        C  \n",
       "2      0  STON/O2. 3101282   7.9250   NaN        S  \n",
       "3      0            113803  53.1000  C123        S  \n",
       "4      0            373450   8.0500   NaN        S  "
      ]
     },
     "execution_count": 4,
     "metadata": {},
     "output_type": "execute_result"
    }
   ],
   "source": [
    "df_titanic = pd.read_csv('~/spiced/random-forest-fennel-student-code/week_02/data/train.csv')\n",
    "df_titanic.head()"
   ]
  },
  {
   "cell_type": "markdown",
   "metadata": {},
   "source": [
    "# 2. Splitting the data into train and test sets"
   ]
  },
  {
   "cell_type": "code",
   "execution_count": 5,
   "metadata": {},
   "outputs": [],
   "source": [
    "X = df_titanic[['PassengerId', 'Pclass', 'Name', 'Sex', 'Age', 'SibSp', 'Parch', 'Ticket', 'Fare', 'Cabin', 'Embarked']]\n",
    "y = df_titanic['Survived']\n",
    "\n",
    "X_train, X_test, y_train, y_test = train_test_split(X,y, test_size=.2, random_state=42)"
   ]
  },
  {
   "cell_type": "markdown",
   "metadata": {},
   "source": [
    "# 3. Extracting the name titles into seperate column with the help of the predefined \"find_title\" function"
   ]
  },
  {
   "cell_type": "code",
   "execution_count": 6,
   "metadata": {},
   "outputs": [
    {
     "name": "stderr",
     "output_type": "stream",
     "text": [
      "<ipython-input-6-910d0c6ff4ad>:1: SettingWithCopyWarning: \n",
      "A value is trying to be set on a copy of a slice from a DataFrame.\n",
      "Try using .loc[row_indexer,col_indexer] = value instead\n",
      "\n",
      "See the caveats in the documentation: https://pandas.pydata.org/pandas-docs/stable/user_guide/indexing.html#returning-a-view-versus-a-copy\n",
      "  X_train['Title'] = X_train['Name'].apply(lambda x: find_title(x))\n",
      "<ipython-input-6-910d0c6ff4ad>:2: SettingWithCopyWarning: \n",
      "A value is trying to be set on a copy of a slice from a DataFrame.\n",
      "Try using .loc[row_indexer,col_indexer] = value instead\n",
      "\n",
      "See the caveats in the documentation: https://pandas.pydata.org/pandas-docs/stable/user_guide/indexing.html#returning-a-view-versus-a-copy\n",
      "  X_test['Title'] = X_test['Name'].apply(lambda x: find_title(x))\n"
     ]
    }
   ],
   "source": [
    "X_train['Title'] = X_train['Name'].apply(lambda x: find_title(x))\n",
    "X_test['Title'] = X_test['Name'].apply(lambda x: find_title(x))"
   ]
  },
  {
   "cell_type": "markdown",
   "metadata": {},
   "source": [
    "# 4. Further preparing and modifying the data sets"
   ]
  },
  {
   "cell_type": "code",
   "execution_count": 8,
   "metadata": {},
   "outputs": [],
   "source": [
    "X_train_mod = sort_stuff(X_train)\n",
    "X_test_mod = sort_stuff(X_test)"
   ]
  },
  {
   "cell_type": "markdown",
   "metadata": {},
   "source": [
    "# 5. Evaluating the feature importancy on the clean dataset"
   ]
  },
  {
   "cell_type": "code",
   "execution_count": 16,
   "metadata": {},
   "outputs": [
    {
     "data": {
      "image/png": "[encoded data removed]",
      "text/plain": [
       "<Figure size 432x288 with 1 Axes>"
      ]
     },
     "metadata": {
      "needs_background": "light"
     },
     "output_type": "display_data"
    }
   ],
   "source": [
    "# join train and test set into a temporary dataframe\n",
    "df_temp = X_train_mod.join(y_train)\n",
    "df_temp.dropna(inplace=True)\n",
    "\n",
    "# drop the numerical features\n",
    "df_temp.drop(['Age', 'Fare'], axis=1, inplace=True)\n",
    "\n",
    "# factorize every column with datatype object\n",
    "object_columns = ['Pclass', 'Sex', 'SibSp', 'Parch', 'Title', 'Deck', 'Embarked']\n",
    "for item in object_columns:\n",
    "    df_temp[item] = pd.factorize(df_temp[item])[0]\n",
    "\n",
    "\n",
    "# drop the y-values again\n",
    "y_temp = df_temp['Survived']\n",
    "X_temp = df_temp.drop('Survived', axis=1)\n",
    "\n",
    "# logisitc regression fit on the initial data\n",
    "forest = RandomForestClassifier().fit(X_temp, y_temp)\n",
    "#result = permutation_importance(logreg, X_temp, y_temp, n_repeats=10, random_state=42)\n",
    "\n",
    "importances = forest.feature_importances_\n",
    "#std = np.std([\n",
    "#    tree.feature_importances_ for tree in forest.estimators_], axis=0)\n",
    "\n",
    "feature_names = X_temp.columns\n",
    "\n",
    "forest_importances = pd.Series(importances, index=feature_names)\n",
    "\n",
    "fig, ax = plt.subplots()\n",
    "forest_importances.plot.bar(ax=ax)\n",
    "ax.set_title(\"Feature importances for all categorical features\")\n",
    "ax.set_ylabel(\"Mean decrease in impurity\")\n",
    "fig.tight_layout()\n",
    "plt.show()"
   ]
  },
  {
   "cell_type": "markdown",
   "metadata": {},
   "source": [
    "### The passenger class has a surprisingly low effect on the servival chances possibly due to the high correlation with the Deck number"
   ]
  },
  {
   "cell_type": "markdown",
   "metadata": {},
   "source": [
    "# 6. Correlation matrix"
   ]
  },
  {
   "cell_type": "code",
   "execution_count": 17,
   "metadata": {},
   "outputs": [
    {
     "data": {
      "text/html": [
       "<style  type=\"text/css\" >\n",
       "#T_e1290_row0_col0,#T_e1290_row1_col1,#T_e1290_row2_col2,#T_e1290_row3_col3,#T_e1290_row4_col4,#T_e1290_row5_col5,#T_e1290_row6_col6,#T_e1290_row7_col7{\n",
       "            background-color:  #023858;\n",
       "            color:  #f1f1f1;\n",
       "        }#T_e1290_row0_col1,#T_e1290_row7_col3{\n",
       "            background-color:  #eee9f3;\n",
       "            color:  #000000;\n",
       "        }#T_e1290_row0_col2{\n",
       "            background-color:  #f6eff7;\n",
       "            color:  #000000;\n",
       "        }#T_e1290_row0_col3,#T_e1290_row0_col5{\n",
       "            background-color:  #dcdaeb;\n",
       "            color:  #000000;\n",
       "        }#T_e1290_row0_col4,#T_e1290_row0_col7,#T_e1290_row4_col0,#T_e1290_row4_col3,#T_e1290_row4_col6,#T_e1290_row6_col1,#T_e1290_row6_col2,#T_e1290_row6_col5{\n",
       "            background-color:  #fff7fb;\n",
       "            color:  #000000;\n",
       "        }#T_e1290_row0_col6{\n",
       "            background-color:  #81aed2;\n",
       "            color:  #000000;\n",
       "        }#T_e1290_row1_col0{\n",
       "            background-color:  #dfddec;\n",
       "            color:  #000000;\n",
       "        }#T_e1290_row1_col2,#T_e1290_row2_col4{\n",
       "            background-color:  #d9d8ea;\n",
       "            color:  #000000;\n",
       "        }#T_e1290_row1_col3,#T_e1290_row7_col0{\n",
       "            background-color:  #e5e1ef;\n",
       "            color:  #000000;\n",
       "        }#T_e1290_row1_col4,#T_e1290_row5_col2{\n",
       "            background-color:  #d3d4e7;\n",
       "            color:  #000000;\n",
       "        }#T_e1290_row1_col5{\n",
       "            background-color:  #0568a3;\n",
       "            color:  #f1f1f1;\n",
       "        }#T_e1290_row1_col6{\n",
       "            background-color:  #f3edf5;\n",
       "            color:  #000000;\n",
       "        }#T_e1290_row1_col7{\n",
       "            background-color:  #569dc8;\n",
       "            color:  #000000;\n",
       "        }#T_e1290_row2_col0,#T_e1290_row4_col5{\n",
       "            background-color:  #f1ebf5;\n",
       "            color:  #000000;\n",
       "        }#T_e1290_row2_col1{\n",
       "            background-color:  #e2dfee;\n",
       "            color:  #000000;\n",
       "        }#T_e1290_row2_col3{\n",
       "            background-color:  #a5bddb;\n",
       "            color:  #000000;\n",
       "        }#T_e1290_row2_col5{\n",
       "            background-color:  #e1dfed;\n",
       "            color:  #000000;\n",
       "        }#T_e1290_row2_col6{\n",
       "            background-color:  #fbf3f9;\n",
       "            color:  #000000;\n",
       "        }#T_e1290_row2_col7,#T_e1290_row3_col6{\n",
       "            background-color:  #f2ecf5;\n",
       "            color:  #000000;\n",
       "        }#T_e1290_row3_col0,#T_e1290_row3_col5{\n",
       "            background-color:  #ced0e6;\n",
       "            color:  #000000;\n",
       "        }#T_e1290_row3_col1{\n",
       "            background-color:  #e7e3f0;\n",
       "            color:  #000000;\n",
       "        }#T_e1290_row3_col2{\n",
       "            background-color:  #9cb9d9;\n",
       "            color:  #000000;\n",
       "        }#T_e1290_row3_col4{\n",
       "            background-color:  #f4eef6;\n",
       "            color:  #000000;\n",
       "        }#T_e1290_row3_col7,#T_e1290_row6_col3,#T_e1290_row6_col7{\n",
       "            background-color:  #fdf5fa;\n",
       "            color:  #000000;\n",
       "        }#T_e1290_row4_col1{\n",
       "            background-color:  #e3e0ee;\n",
       "            color:  #000000;\n",
       "        }#T_e1290_row4_col2{\n",
       "            background-color:  #e0dded;\n",
       "            color:  #000000;\n",
       "        }#T_e1290_row4_col7{\n",
       "            background-color:  #ebe6f2;\n",
       "            color:  #000000;\n",
       "        }#T_e1290_row5_col0,#T_e1290_row5_col3{\n",
       "            background-color:  #c5cce3;\n",
       "            color:  #000000;\n",
       "        }#T_e1290_row5_col1{\n",
       "            background-color:  #0567a2;\n",
       "            color:  #f1f1f1;\n",
       "        }#T_e1290_row5_col4{\n",
       "            background-color:  #dedcec;\n",
       "            color:  #000000;\n",
       "        }#T_e1290_row5_col6{\n",
       "            background-color:  #f0eaf4;\n",
       "            color:  #000000;\n",
       "        }#T_e1290_row5_col7{\n",
       "            background-color:  #4897c4;\n",
       "            color:  #000000;\n",
       "        }#T_e1290_row6_col0{\n",
       "            background-color:  #80aed2;\n",
       "            color:  #000000;\n",
       "        }#T_e1290_row6_col4{\n",
       "            background-color:  #fef6fb;\n",
       "            color:  #000000;\n",
       "        }#T_e1290_row7_col1{\n",
       "            background-color:  #4496c3;\n",
       "            color:  #000000;\n",
       "        }#T_e1290_row7_col2{\n",
       "            background-color:  #dad9ea;\n",
       "            color:  #000000;\n",
       "        }#T_e1290_row7_col4{\n",
       "            background-color:  #cacee5;\n",
       "            color:  #000000;\n",
       "        }#T_e1290_row7_col5{\n",
       "            background-color:  #3d93c2;\n",
       "            color:  #000000;\n",
       "        }#T_e1290_row7_col6{\n",
       "            background-color:  #e4e1ef;\n",
       "            color:  #000000;\n",
       "        }</style><table id=\"T_e1290_\" ><thead>    <tr>        <th class=\"blank level0\" ></th>        <th class=\"col_heading level0 col0\" >Pclass</th>        <th class=\"col_heading level0 col1\" >Sex</th>        <th class=\"col_heading level0 col2\" >SibSp</th>        <th class=\"col_heading level0 col3\" >Parch</th>        <th class=\"col_heading level0 col4\" >Embarked</th>        <th class=\"col_heading level0 col5\" >Title</th>        <th class=\"col_heading level0 col6\" >Deck</th>        <th class=\"col_heading level0 col7\" >Survived</th>    </tr></thead><tbody>\n",
       "                <tr>\n",
       "                        <th id=\"T_e1290_level0_row0\" class=\"row_heading level0 row0\" >Pclass</th>\n",
       "                        <td id=\"T_e1290_row0_col0\" class=\"data row0 col0\" >1.000000</td>\n",
       "                        <td id=\"T_e1290_row0_col1\" class=\"data row0 col1\" >-0.000000</td>\n",
       "                        <td id=\"T_e1290_row0_col2\" class=\"data row0 col2\" >-0.116657</td>\n",
       "                        <td id=\"T_e1290_row0_col3\" class=\"data row0 col3\" >0.085803</td>\n",
       "                        <td id=\"T_e1290_row0_col4\" class=\"data row0 col4\" >-0.227110</td>\n",
       "                        <td id=\"T_e1290_row0_col5\" class=\"data row0 col5\" >0.121510</td>\n",
       "                        <td id=\"T_e1290_row0_col6\" class=\"data row0 col6\" >0.349980</td>\n",
       "                        <td id=\"T_e1290_row0_col7\" class=\"data row0 col7\" >-0.032823</td>\n",
       "            </tr>\n",
       "            <tr>\n",
       "                        <th id=\"T_e1290_level0_row1\" class=\"row_heading level0 row1\" >Sex</th>\n",
       "                        <td id=\"T_e1290_row1_col0\" class=\"data row1 col0\" >-0.000000</td>\n",
       "                        <td id=\"T_e1290_row1_col1\" class=\"data row1 col1\" >1.000000</td>\n",
       "                        <td id=\"T_e1290_row1_col2\" class=\"data row1 col2\" >0.066512</td>\n",
       "                        <td id=\"T_e1290_row1_col3\" class=\"data row1 col3\" >0.040767</td>\n",
       "                        <td id=\"T_e1290_row1_col4\" class=\"data row1 col4\" >0.064553</td>\n",
       "                        <td id=\"T_e1290_row1_col5\" class=\"data row1 col5\" >0.775194</td>\n",
       "                        <td id=\"T_e1290_row1_col6\" class=\"data row1 col6\" >-0.124195</td>\n",
       "                        <td id=\"T_e1290_row1_col7\" class=\"data row1 col7\" >0.544320</td>\n",
       "            </tr>\n",
       "            <tr>\n",
       "                        <th id=\"T_e1290_level0_row2\" class=\"row_heading level0 row2\" >SibSp</th>\n",
       "                        <td id=\"T_e1290_row2_col0\" class=\"data row2 col0\" >-0.116657</td>\n",
       "                        <td id=\"T_e1290_row2_col1\" class=\"data row2 col1\" >0.066512</td>\n",
       "                        <td id=\"T_e1290_row2_col2\" class=\"data row2 col2\" >1.000000</td>\n",
       "                        <td id=\"T_e1290_row2_col3\" class=\"data row2 col3\" >0.288360</td>\n",
       "                        <td id=\"T_e1290_row2_col4\" class=\"data row2 col4\" >0.027802</td>\n",
       "                        <td id=\"T_e1290_row2_col5\" class=\"data row2 col5\" >0.095447</td>\n",
       "                        <td id=\"T_e1290_row2_col6\" class=\"data row2 col6\" >-0.186325</td>\n",
       "                        <td id=\"T_e1290_row2_col7\" class=\"data row2 col7\" >0.058177</td>\n",
       "            </tr>\n",
       "            <tr>\n",
       "                        <th id=\"T_e1290_level0_row3\" class=\"row_heading level0 row3\" >Parch</th>\n",
       "                        <td id=\"T_e1290_row3_col0\" class=\"data row3 col0\" >0.085803</td>\n",
       "                        <td id=\"T_e1290_row3_col1\" class=\"data row3 col1\" >0.040767</td>\n",
       "                        <td id=\"T_e1290_row3_col2\" class=\"data row3 col2\" >0.288360</td>\n",
       "                        <td id=\"T_e1290_row3_col3\" class=\"data row3 col3\" >1.000000</td>\n",
       "                        <td id=\"T_e1290_row3_col4\" class=\"data row3 col4\" >-0.138817</td>\n",
       "                        <td id=\"T_e1290_row3_col5\" class=\"data row3 col5\" >0.183415</td>\n",
       "                        <td id=\"T_e1290_row3_col6\" class=\"data row3 col6\" >-0.117057</td>\n",
       "                        <td id=\"T_e1290_row3_col7\" class=\"data row3 col7\" >-0.014032</td>\n",
       "            </tr>\n",
       "            <tr>\n",
       "                        <th id=\"T_e1290_level0_row4\" class=\"row_heading level0 row4\" >Embarked</th>\n",
       "                        <td id=\"T_e1290_row4_col0\" class=\"data row4 col0\" >-0.227110</td>\n",
       "                        <td id=\"T_e1290_row4_col1\" class=\"data row4 col1\" >0.064553</td>\n",
       "                        <td id=\"T_e1290_row4_col2\" class=\"data row4 col2\" >0.027802</td>\n",
       "                        <td id=\"T_e1290_row4_col3\" class=\"data row4 col3\" >-0.138817</td>\n",
       "                        <td id=\"T_e1290_row4_col4\" class=\"data row4 col4\" >1.000000</td>\n",
       "                        <td id=\"T_e1290_row4_col5\" class=\"data row4 col5\" >0.003898</td>\n",
       "                        <td id=\"T_e1290_row4_col6\" class=\"data row4 col6\" >-0.220222</td>\n",
       "                        <td id=\"T_e1290_row4_col7\" class=\"data row4 col7\" >0.103499</td>\n",
       "            </tr>\n",
       "            <tr>\n",
       "                        <th id=\"T_e1290_level0_row5\" class=\"row_heading level0 row5\" >Title</th>\n",
       "                        <td id=\"T_e1290_row5_col0\" class=\"data row5 col0\" >0.121510</td>\n",
       "                        <td id=\"T_e1290_row5_col1\" class=\"data row5 col1\" >0.775194</td>\n",
       "                        <td id=\"T_e1290_row5_col2\" class=\"data row5 col2\" >0.095447</td>\n",
       "                        <td id=\"T_e1290_row5_col3\" class=\"data row5 col3\" >0.183415</td>\n",
       "                        <td id=\"T_e1290_row5_col4\" class=\"data row5 col4\" >0.003898</td>\n",
       "                        <td id=\"T_e1290_row5_col5\" class=\"data row5 col5\" >1.000000</td>\n",
       "                        <td id=\"T_e1290_row5_col6\" class=\"data row5 col6\" >-0.096438</td>\n",
       "                        <td id=\"T_e1290_row5_col7\" class=\"data row5 col7\" >0.573559</td>\n",
       "            </tr>\n",
       "            <tr>\n",
       "                        <th id=\"T_e1290_level0_row6\" class=\"row_heading level0 row6\" >Deck</th>\n",
       "                        <td id=\"T_e1290_row6_col0\" class=\"data row6 col0\" >0.349980</td>\n",
       "                        <td id=\"T_e1290_row6_col1\" class=\"data row6 col1\" >-0.124195</td>\n",
       "                        <td id=\"T_e1290_row6_col2\" class=\"data row6 col2\" >-0.186325</td>\n",
       "                        <td id=\"T_e1290_row6_col3\" class=\"data row6 col3\" >-0.117057</td>\n",
       "                        <td id=\"T_e1290_row6_col4\" class=\"data row6 col4\" >-0.220222</td>\n",
       "                        <td id=\"T_e1290_row6_col5\" class=\"data row6 col5\" >-0.096438</td>\n",
       "                        <td id=\"T_e1290_row6_col6\" class=\"data row6 col6\" >1.000000</td>\n",
       "                        <td id=\"T_e1290_row6_col7\" class=\"data row6 col7\" >-0.020259</td>\n",
       "            </tr>\n",
       "            <tr>\n",
       "                        <th id=\"T_e1290_level0_row7\" class=\"row_heading level0 row7\" >Survived</th>\n",
       "                        <td id=\"T_e1290_row7_col0\" class=\"data row7 col0\" >-0.032823</td>\n",
       "                        <td id=\"T_e1290_row7_col1\" class=\"data row7 col1\" >0.544320</td>\n",
       "                        <td id=\"T_e1290_row7_col2\" class=\"data row7 col2\" >0.058177</td>\n",
       "                        <td id=\"T_e1290_row7_col3\" class=\"data row7 col3\" >-0.014032</td>\n",
       "                        <td id=\"T_e1290_row7_col4\" class=\"data row7 col4\" >0.103499</td>\n",
       "                        <td id=\"T_e1290_row7_col5\" class=\"data row7 col5\" >0.573559</td>\n",
       "                        <td id=\"T_e1290_row7_col6\" class=\"data row7 col6\" >-0.020259</td>\n",
       "                        <td id=\"T_e1290_row7_col7\" class=\"data row7 col7\" >1.000000</td>\n",
       "            </tr>\n",
       "    </tbody></table>"
      ],
      "text/plain": [
       "<pandas.io.formats.style.Styler at 0x7f13e98478b0>"
      ]
     },
     "execution_count": 17,
     "metadata": {},
     "output_type": "execute_result"
    }
   ],
   "source": [
    "# join train and test set into a temporary dataframe\n",
    "df_temp = X_train_mod.join(y_train)\n",
    "df_temp.dropna(inplace=True)\n",
    "\n",
    "# drop the numerical features\n",
    "df_temp.drop(['Age', 'Fare'], axis=1, inplace=True)\n",
    "\n",
    "# factorize every column with datatype object\n",
    "object_columns = ['Pclass', 'Sex', 'SibSp', 'Parch', 'Title', 'Deck', 'Embarked']\n",
    "for item in object_columns:\n",
    "    df_temp[item] = pd.factorize(df_temp[item])[0]\n",
    "\n",
    "corr = df_temp.corr()\n",
    "corr.style.background_gradient()"
   ]
  },
  {
   "cell_type": "markdown",
   "metadata": {},
   "source": [
    "# 7. Feature engineering"
   ]
  },
  {
   "cell_type": "code",
   "execution_count": 18,
   "metadata": {},
   "outputs": [
    {
     "name": "stderr",
     "output_type": "stream",
     "text": [
      "/home/dietmar/anaconda3/lib/python3.8/site-packages/sklearn/preprocessing/_discretization.py:220: UserWarning: Bins whose width are too small (i.e., <= 1e-8) in feature 0 are removed. Consider decreasing the number of bins.\n",
      "  warnings.warn('Bins whose width are too small (i.e., <= '\n"
     ]
    }
   ],
   "source": [
    "age_pipeline = Pipeline([\n",
    "    ('age_imputer', KNNImputer(n_neighbors=5)),\n",
    "    ('age_bin', KBinsDiscretizer(n_bins=8, encode='onehot-dense', strategy='quantile'))\n",
    "])\n",
    "\n",
    "deck_embar_pipeline = Pipeline([\n",
    "    ('deck_embar_imputer', SimpleImputer(strategy='constant')),\n",
    "    ('deck_embar_encoder', OneHotEncoder(sparse=False, handle_unknown='error', drop='if_binary'))\n",
    "])\n",
    "\n",
    "column_transformer = ColumnTransformer([\n",
    "    ('age_pipeline', age_pipeline, ['Age']),\n",
    "    ('deck_embar_pipeline', deck_embar_pipeline, ['Deck']),\n",
    "    ('hot_one_encoder', OneHotEncoder(sparse=False, handle_unknown='ignore'), ['Pclass', 'Sex', 'Title','SibSp', 'Parch', 'Embarked']),\n",
    "    ('num_scaler', MinMaxScaler(), ['Fare'])\n",
    "])\n",
    "\n",
    "column_transformer.fit(X_train_mod)\n",
    "X_train_fe = column_transformer.transform(X_train_mod)\n",
    "X_test_fe = column_transformer.transform(X_test_mod) # DO NOT FIT ON TEST DATA"
   ]
  },
  {
   "cell_type": "markdown",
   "metadata": {},
   "source": [
    "# 8. Modelling"
   ]
  },
  {
   "cell_type": "code",
   "execution_count": 48,
   "metadata": {},
   "outputs": [],
   "source": [
    "m = LogisticRegression(C=5, penalty='l2')\n",
    "dt_clf = DecisionTreeClassifier(max_depth=5)\n",
    "rf_clf = RandomForestClassifier(max_depth=6, n_estimators=15)\n",
    "knn_clf = KNeighborsClassifier(n_neighbors=5)\n",
    "sv_clf = SVC(kernel=\"linear\", C=1)"
   ]
  },
  {
   "cell_type": "code",
   "execution_count": 49,
   "metadata": {},
   "outputs": [
    {
     "name": "stderr",
     "output_type": "stream",
     "text": [
      "/home/dietmar/anaconda3/lib/python3.8/site-packages/sklearn/linear_model/_logistic.py:763: ConvergenceWarning: lbfgs failed to converge (status=1):\n",
      "STOP: TOTAL NO. of ITERATIONS REACHED LIMIT.\n",
      "\n",
      "Increase the number of iterations (max_iter) or scale the data as shown in:\n",
      "    https://scikit-learn.org/stable/modules/preprocessing.html\n",
      "Please also refer to the documentation for alternative solver options:\n",
      "    https://scikit-learn.org/stable/modules/linear_model.html#logistic-regression\n",
      "  n_iter_i = _check_optimize_result(\n"
     ]
    },
    {
     "data": {
      "text/plain": [
       "SVC(C=1, kernel='linear')"
      ]
     },
     "execution_count": 49,
     "metadata": {},
     "output_type": "execute_result"
    }
   ],
   "source": [
    "m.fit(X_train_fe, y_train)\n",
    "dt_clf.fit(X_train_fe, y_train)\n",
    "rf_clf.fit(X_train_fe, y_train)\n",
    "knn_clf.fit(X_train_fe, y_train)\n",
    "sv_clf.fit(X_train_fe, y_train)"
   ]
  },
  {
   "cell_type": "code",
   "execution_count": 50,
   "metadata": {},
   "outputs": [
    {
     "name": "stdout",
     "output_type": "stream",
     "text": [
      "The score on the TRAINING set with LOGISTIC REGRESSION is: 0.8525280898876404\n",
      "The score on the TRAINING set with DECISION TREE CLASSIFIER is: 0.8609550561797753\n",
      "The score on the TRAINING set with RANDOM FOREST CLASSIFIER is: 0.8637640449438202\n",
      "The score on the TRAINING set with K-NEAREST NEIGHBOR CLASSIFIER is: 0.8609550561797753\n",
      "The score on the TRAINING set with C-SUPPORT VECTOR CLASSIFICATION is: 0.8328651685393258\n"
     ]
    }
   ],
   "source": [
    "print('The score on the TRAINING set with LOGISTIC REGRESSION is: {}'.format(m.score(X_train_fe, y_train)))\n",
    "print('The score on the TRAINING set with DECISION TREE CLASSIFIER is: {}'.format(dt_clf.score(X_train_fe, y_train)))\n",
    "print('The score on the TRAINING set with RANDOM FOREST CLASSIFIER is: {}'.format(rf_clf.score(X_train_fe, y_train)))\n",
    "print('The score on the TRAINING set with K-NEAREST NEIGHBOR CLASSIFIER is: {}'.format(knn_clf.score(X_train_fe, y_train)))\n",
    "print('The score on the TRAINING set with C-SUPPORT VECTOR CLASSIFICATION is: {}'.format(sv_clf.score(X_train_fe, y_train)))"
   ]
  },
  {
   "cell_type": "code",
   "execution_count": 51,
   "metadata": {},
   "outputs": [
    {
     "name": "stdout",
     "output_type": "stream",
     "text": [
      "The score on the TEST set with LOGISTIC REGRESSION is: 0.8044692737430168\n",
      "The score on the TEST set with DECISION TREE CLASSIFIER is: 0.7988826815642458\n",
      "The score on the TEST set with RANDOM FOREST CLASSIFIER is: 0.8324022346368715\n",
      "The score on the TEST set with K-NEAREST NEIGHBOR CLASSIFIER is: 0.8212290502793296\n",
      "The score on the TEST set with C-SUPPORT VECTOR CLASSIFICATION is: 0.8212290502793296\n"
     ]
    }
   ],
   "source": [
    "print('The score on the TEST set with LOGISTIC REGRESSION is: {}'.format(m.score(X_test_fe, y_test)))\n",
    "print('The score on the TEST set with DECISION TREE CLASSIFIER is: {}'.format(dt_clf.score(X_test_fe, y_test)))\n",
    "print('The score on the TEST set with RANDOM FOREST CLASSIFIER is: {}'.format(rf_clf.score(X_test_fe, y_test)))\n",
    "print('The score on the TEST set with K-NEAREST NEIGHBOR CLASSIFIER is: {}'.format(knn_clf.score(X_test_fe, y_test)))\n",
    "print('The score on the TEST set with C-SUPPORT VECTOR CLASSIFICATION is: {}'.format(sv_clf.score(X_test_fe, y_test)))"
   ]
  },
  {
   "cell_type": "code",
   "execution_count": 52,
   "metadata": {},
   "outputs": [
    {
     "data": {
      "text/plain": [
       "<sklearn.metrics._plot.roc_curve.RocCurveDisplay at 0x7f13e98477c0>"
      ]
     },
     "execution_count": 52,
     "metadata": {},
     "output_type": "execute_result"
    },
    {
     "data": {
      "image/png": "[encoded data removed]",
      "text/plain": [
       "<Figure size 432x288 with 1 Axes>"
      ]
     },
     "metadata": {
      "needs_background": "light"
     },
     "output_type": "display_data"
    }
   ],
   "source": [
    "disp = metrics.plot_roc_curve(m, X_test_fe, y_test)\n",
    "metrics.plot_roc_curve(knn_clf, X_test_fe, y_test, ax=disp.ax_)\n",
    "metrics.plot_roc_curve(rf_clf, X_test_fe, y_test, ax=disp.ax_)\n",
    "metrics.plot_roc_curve(sv_clf, X_test_fe, y_test, ax=disp.ax_)"
   ]
  },
  {
   "cell_type": "markdown",
   "metadata": {},
   "source": [
    "# 9. Cross validation"
   ]
  },
  {
   "cell_type": "code",
   "execution_count": 53,
   "metadata": {},
   "outputs": [],
   "source": [
    "from sklearn.model_selection import cross_validate, KFold, StratifiedKFold\n",
    "\n",
    "#kf = KFold(n_splits=10, shuffle=True, random_state=42)\n",
    "skf = StratifiedKFold(n_splits=10, shuffle=True, random_state=42)"
   ]
  },
  {
   "cell_type": "code",
   "execution_count": 54,
   "metadata": {},
   "outputs": [
    {
     "name": "stderr",
     "output_type": "stream",
     "text": [
      "/home/dietmar/anaconda3/lib/python3.8/site-packages/sklearn/linear_model/_logistic.py:763: ConvergenceWarning: lbfgs failed to converge (status=1):\n",
      "STOP: TOTAL NO. of ITERATIONS REACHED LIMIT.\n",
      "\n",
      "Increase the number of iterations (max_iter) or scale the data as shown in:\n",
      "    https://scikit-learn.org/stable/modules/preprocessing.html\n",
      "Please also refer to the documentation for alternative solver options:\n",
      "    https://scikit-learn.org/stable/modules/linear_model.html#logistic-regression\n",
      "  n_iter_i = _check_optimize_result(\n",
      "/home/dietmar/anaconda3/lib/python3.8/site-packages/sklearn/linear_model/_logistic.py:763: ConvergenceWarning: lbfgs failed to converge (status=1):\n",
      "STOP: TOTAL NO. of ITERATIONS REACHED LIMIT.\n",
      "\n",
      "Increase the number of iterations (max_iter) or scale the data as shown in:\n",
      "    https://scikit-learn.org/stable/modules/preprocessing.html\n",
      "Please also refer to the documentation for alternative solver options:\n",
      "    https://scikit-learn.org/stable/modules/linear_model.html#logistic-regression\n",
      "  n_iter_i = _check_optimize_result(\n"
     ]
    },
    {
     "name": "stdout",
     "output_type": "stream",
     "text": [
      "Cross validation accuracy mean: 0.8455007824726135 and standard deviation 0.042987666705516354 for LogisticRegression(C=5)\n",
      "Cross validation accuracy mean: 0.8133215962441314 and standard deviation 0.03485364930378409 for DecisionTreeClassifier(max_depth=5)\n",
      "Cross validation accuracy mean: 0.8273278560250391 and standard deviation 0.04370024170354511 for RandomForestClassifier(max_depth=6, n_estimators=15)\n",
      "Cross validation accuracy mean: 0.8076095461658841 and standard deviation 0.03904346736512016 for KNeighborsClassifier()\n",
      "Cross validation accuracy mean: 0.8174687010954618 and standard deviation 0.040457546717457576 for SVC(C=1, kernel='linear')\n"
     ]
    }
   ],
   "source": [
    "from sklearn.model_selection import cross_validate, cross_val_score, GridSearchCV\n",
    "\n",
    "clf_list = [m, dt_clf, rf_clf, knn_clf, sv_clf]\n",
    "cv_list = []\n",
    "\n",
    "for i, clf in enumerate(clf_list):\n",
    "    cv = cross_validate(clf, X_train_fe, y_train,\n",
    "                        cv=skf,\n",
    "                        scoring='accuracy',\n",
    "                        return_train_score=True\n",
    "    )\n",
    "    print('Cross validation accuracy mean: {} and standard deviation {} for {}'.format(cv['test_score'].mean(), cv['test_score'].std(), clf ))\n",
    "    "
   ]
  },
  {
   "cell_type": "markdown",
   "metadata": {},
   "source": [
    "### I choose the Random Forest Classifier as the algorithm of choice due to the highest AUC value of 0.89 as well as to to a high accuracy of 0.82 while the relatively low standart deviation derived from the cross validation predicts a robust model"
   ]
  },
  {
   "cell_type": "markdown",
   "metadata": {},
   "source": [
    "# 10. Grid search on the Random Forest Classifier"
   ]
  },
  {
   "cell_type": "code",
   "execution_count": 55,
   "metadata": {},
   "outputs": [],
   "source": [
    "param_grid = {'max_depth': [2, 3, 4, 5, 6, 7, 8, 10, 15, 20], 'n_estimators': [2, 5, 10, 15, 20, 30, 50, 100, 200]}"
   ]
  },
  {
   "cell_type": "code",
   "execution_count": 56,
   "metadata": {},
   "outputs": [],
   "source": [
    "gs = GridSearchCV(rf_clf, param_grid, cv=skf).fit(X_train_fe, y_train)"
   ]
  },
  {
   "cell_type": "code",
   "execution_count": 57,
   "metadata": {},
   "outputs": [
    {
     "name": "stdout",
     "output_type": "stream",
     "text": [
      "The best hyperparameters for the Random Forest Classifier are:\n"
     ]
    },
    {
     "data": {
      "text/plain": [
       "{'max_depth': 6, 'n_estimators': 20}"
      ]
     },
     "execution_count": 57,
     "metadata": {},
     "output_type": "execute_result"
    }
   ],
   "source": [
    "print('The best hyperparameters for the Random Forest Classifier are:')\n",
    "gs.best_params_"
   ]
  },
  {
   "cell_type": "markdown",
   "metadata": {},
   "source": [
    "# 11. Final model"
   ]
  },
  {
   "cell_type": "code",
   "execution_count": 64,
   "metadata": {},
   "outputs": [
    {
     "name": "stdout",
     "output_type": "stream",
     "text": [
      "Confusion matrix:\n",
      "[[95 10]\n",
      " [20 54]]\n",
      "\n",
      " Final accuracy:\n",
      "0.8324022346368715\n"
     ]
    }
   ],
   "source": [
    "rf_clf = RandomForestClassifier(max_depth=6, n_estimators=20)\n",
    "rf_clf.fit(X_train_fe, y_train)\n",
    "y_pred = rf_clf.predict(X_test_fe)\n",
    "\n",
    "from sklearn.metrics import confusion_matrix\n",
    "print('Confusion matrix:')\n",
    "print(confusion_matrix(y_test, y_pred))\n",
    "print('\\n Final accuracy:')\n",
    "print(rf_clf.score(X_test_fe, y_test))"
   ]
  },
  {
   "cell_type": "markdown",
   "metadata": {},
   "source": [
    "# Conclusion:\n",
    "\n",
    "-> Based on the passenger list of the titanic this model predicts with an accuracy of 83% wether a passenger survived the tragedy"
   ]
  }
 ],
 "metadata": {
  "interpreter": {
   "hash": "5553edf66e31782bf95b49bf54ca05954b704472ece71a782bb1212dc0942f9a"
  },
  "kernelspec": {
   "display_name": "Python 3",
   "language": "python",
   "name": "python3"
  },
  "language_info": {
   "codemirror_mode": {
    "name": "ipython",
    "version": 3
   },
   "file_extension": ".py",
   "mimetype": "text/x-python",
   "name": "python",
   "nbconvert_exporter": "python",
   "pygments_lexer": "ipython3",
   "version": "3.8.8"
  }
 },
 "nbformat": 4,
 "nbformat_minor": 2
}
